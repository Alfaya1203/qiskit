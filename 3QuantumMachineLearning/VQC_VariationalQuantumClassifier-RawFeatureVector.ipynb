{
 "cells": [
  {
   "cell_type": "code",
   "execution_count": 1,
   "metadata": {},
   "outputs": [],
   "source": [
    "import time\n",
    "\n",
    "import numpy as np\n",
    "from sklearn import datasets\n",
    "from sklearn.model_selection import train_test_split\n",
    "from sklearn.preprocessing import StandardScaler, MinMaxScaler\n",
    "from sklearn.decomposition import PCA\n",
    "from qiskit.ml.datasets import wine, breast_cancer\n",
    "\n",
    "\n",
    "import scipy\n",
    "from qiskit import BasicAer\n",
    "from qiskit.circuit.library import TwoLocal, ZZFeatureMap\n",
    "from qiskit.aqua import QuantumInstance, aqua_globals\n",
    "from qiskit.aqua.algorithms import VQC\n",
    "from qiskit.aqua.components.optimizers import COBYLA\n",
    "from qiskit.aqua.components.feature_maps import RawFeatureVector\n",
    "from qiskit.aqua.utils import get_feature_dimension"
   ]
  },
  {
   "cell_type": "code",
   "execution_count": 2,
   "metadata": {},
   "outputs": [],
   "source": [
    "feature_dim = 2 # dimension of each data point\n",
    "training_dataset_size = 20\n",
    "testing_dataset_size = 10\n",
    "random_seed = 10598\n",
    "aqua_globals.random_seed = random_seed \n",
    "\n",
    "sample_Total, training_input, test_input, class_labels = breast_cancer(\n",
    "    training_size=training_dataset_size,\n",
    "    test_size=testing_dataset_size,\n",
    "    n=feature_dim,\n",
    "    plot_data=False\n",
    ")"
   ]
  },
  {
   "cell_type": "markdown",
   "metadata": {},
   "source": [
    "# RawFeatureVector "
   ]
  },
  {
   "cell_type": "code",
   "execution_count": 3,
   "metadata": {},
   "outputs": [
    {
     "name": "stdout",
     "output_type": "stream",
     "text": [
      "Jumlah n qubit:  1\n",
      "VQC accuracy with RawFeatureVector:  0.8\n",
      "runtime:  0.4523531277974447  min\n"
     ]
    }
   ],
   "source": [
    "start = time.time()\n",
    "\n",
    "feature_map = RawFeatureVector(feature_dimension=get_feature_dimension(training_input))\n",
    "print(\"Jumlah n qubit: \", feature_map.num_qubits)\n",
    "\n",
    "vqc = VQC(COBYLA(maxiter=200),\n",
    "            feature_map,\n",
    "            TwoLocal(feature_map.num_qubits, ['ry', 'rz'], 'cz', reps=3),\n",
    "            training_input, test_input)\n",
    "result = vqc.run(QuantumInstance(BasicAer.get_backend('statevector_simulator'),\n",
    "                                    seed_simulator=aqua_globals.random_seed,\n",
    "                                    seed_transpiler=aqua_globals.random_seed))\n",
    "print(\"VQC accuracy with RawFeatureVector: \", result['testing_accuracy'])\n",
    "\n",
    "end = time.time()\n",
    "print('runtime: ', (end - start)/60., ' min')"
   ]
  },
  {
   "cell_type": "markdown",
   "metadata": {},
   "source": [
    "# ZZFeatureMap"
   ]
  },
  {
   "cell_type": "code",
   "execution_count": 4,
   "metadata": {},
   "outputs": [
    {
     "name": "stdout",
     "output_type": "stream",
     "text": [
      "Jumlah n qubit:  2\n",
      "Test accuracy with ZZFeatureMap:  0.75\n",
      "runtime:  0.5916212916374206  min\n"
     ]
    }
   ],
   "source": [
    "start = time.time()\n",
    "\n",
    "feature_map = ZZFeatureMap(get_feature_dimension(training_input))\n",
    "print(\"Jumlah n qubit: \", feature_map.num_qubits)\n",
    "\n",
    "vqc = VQC(COBYLA(maxiter=200),\n",
    "            feature_map,\n",
    "            TwoLocal(feature_map.num_qubits, ['ry', 'rz'], 'cz', reps=3),\n",
    "            training_input, test_input)\n",
    "result = vqc.run(QuantumInstance(BasicAer.get_backend('statevector_simulator'),\n",
    "                                    seed_simulator=aqua_globals.random_seed,\n",
    "                                    seed_transpiler=aqua_globals.random_seed))\n",
    "print(\"Test accuracy with ZZFeatureMap: \", result['testing_accuracy'])\n",
    "\n",
    "end = time.time()\n",
    "print('runtime: ', (end - start)/60., ' min')"
   ]
  },
  {
   "cell_type": "markdown",
   "metadata": {},
   "source": [
    "# Wine Dataset"
   ]
  },
  {
   "cell_type": "code",
   "execution_count": 6,
   "metadata": {},
   "outputs": [],
   "source": [
    "feature_dim = 4 # dimension of each data point\n",
    "training_dataset_size = 20\n",
    "testing_dataset_size = 10\n",
    "random_seed = 10598\n",
    "aqua_globals.random_seed = random_seed \n",
    "\n",
    "sample_Total, training_input, test_input, class_labels = wine(\n",
    "    training_size=training_dataset_size,\n",
    "    test_size=testing_dataset_size,\n",
    "    n=feature_dim,\n",
    "    plot_data=False\n",
    ")"
   ]
  },
  {
   "cell_type": "code",
   "execution_count": 7,
   "metadata": {},
   "outputs": [
    {
     "name": "stdout",
     "output_type": "stream",
     "text": [
      "Jumlah n qubit:  2\n",
      "VQC accuracy with RawFeatureVector:  0.7\n",
      "runtime:  3.4214659770329794  min\n"
     ]
    }
   ],
   "source": [
    "start = time.time()\n",
    "\n",
    "feature_map = RawFeatureVector(feature_dimension=get_feature_dimension(training_input))\n",
    "print(\"Jumlah n qubit: \", feature_map.num_qubits)\n",
    "\n",
    "vqc = VQC(COBYLA(maxiter=200),\n",
    "            feature_map,\n",
    "            TwoLocal(feature_map.num_qubits, ['ry', 'rz'], 'cz', reps=3),\n",
    "            training_input, test_input)\n",
    "result = vqc.run(QuantumInstance(BasicAer.get_backend('statevector_simulator'),\n",
    "                                    seed_simulator=aqua_globals.random_seed,\n",
    "                                    seed_transpiler=aqua_globals.random_seed))\n",
    "print(\"VQC accuracy with RawFeatureVector: \", result['testing_accuracy'])\n",
    "\n",
    "end = time.time()\n",
    "print('runtime: ', (end - start)/60., ' min')"
   ]
  },
  {
   "cell_type": "code",
   "execution_count": 8,
   "metadata": {},
   "outputs": [
    {
     "name": "stdout",
     "output_type": "stream",
     "text": [
      "Jumlah n qubit:  4\n",
      "Test accuracy with ZZFeatureMap:  0.6\n",
      "runtime:  5.691889667510987  min\n"
     ]
    }
   ],
   "source": [
    "start = time.time()\n",
    "\n",
    "feature_map = ZZFeatureMap(get_feature_dimension(training_input))\n",
    "print(\"Jumlah n qubit: \", feature_map.num_qubits)\n",
    "\n",
    "vqc = VQC(COBYLA(maxiter=200),\n",
    "            feature_map,\n",
    "            TwoLocal(feature_map.num_qubits, ['ry', 'rz'], 'cz', reps=3),\n",
    "            training_input, test_input)\n",
    "result = vqc.run(QuantumInstance(BasicAer.get_backend('statevector_simulator'),\n",
    "                                    seed_simulator=aqua_globals.random_seed,\n",
    "                                    seed_transpiler=aqua_globals.random_seed))\n",
    "print(\"Test accuracy with ZZFeatureMap: \", result['testing_accuracy'])\n",
    "\n",
    "end = time.time()\n",
    "print('runtime: ', (end - start)/60., ' min')"
   ]
  },
  {
   "cell_type": "code",
   "execution_count": null,
   "metadata": {},
   "outputs": [],
   "source": []
  }
 ],
 "metadata": {
  "kernelspec": {
   "display_name": "Python 3",
   "language": "python",
   "name": "python3"
  },
  "language_info": {
   "codemirror_mode": {
    "name": "ipython",
    "version": 3
   },
   "file_extension": ".py",
   "mimetype": "text/x-python",
   "name": "python",
   "nbconvert_exporter": "python",
   "pygments_lexer": "ipython3",
   "version": "3.8.2"
  }
 },
 "nbformat": 4,
 "nbformat_minor": 4
}
