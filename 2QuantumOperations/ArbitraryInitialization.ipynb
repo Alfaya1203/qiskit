{
 "cells": [
  {
   "cell_type": "code",
   "execution_count": 1,
   "metadata": {},
   "outputs": [],
   "source": [
    "# Useful additional packages \n",
    "import matplotlib.pyplot as plt\n",
    "%matplotlib inline\n",
    "import numpy as np\n",
    "from math import pi"
   ]
  },
  {
   "cell_type": "code",
   "execution_count": 2,
   "metadata": {},
   "outputs": [],
   "source": [
    "from qiskit.tools.visualization import circuit_drawer\n",
    "from qiskit.visualization import *\n",
    "from qiskit.quantum_info import state_fidelity\n",
    "from qiskit import *\n",
    "\n",
    "# 1. The QASM Simulator is the main Qiskit Aer backend. \n",
    "# This backend emulates execution of a quantum circuits on a real device and returns measurement counts.\n",
    "backendQasm = BasicAer.get_backend('qasm_simulator')\n",
    "\n",
    "# 2. The Statevector Simulator is an auxiliary backend for Qiskit Aer. \n",
    "# It simulates the ideal execution of a quantum circuit and returns the final quantum state vector of the device at the end of simulation. \n",
    "# This is useful for education, as well as the theoretical study and debugging of algorithms.\n",
    "backendStatevector = BasicAer.get_backend('statevector_simulator')\n",
    "\n",
    "# 3. The Unitary Simulator is another auxiliary backend for Qiskit Aer. \n",
    "# It allows simulation of the final unitary matrix implemented by an ideal quantum circuit. \n",
    "# This is also useful for education and algorithm studies.\n",
    "backend = BasicAer.get_backend('unitary_simulator')"
   ]
  },
  {
   "cell_type": "markdown",
   "metadata": {},
   "source": [
    "# Arbitrary Initialization & State Fidelity"
   ]
  },
  {
   "cell_type": "code",
   "execution_count": 4,
   "metadata": {},
   "outputs": [
    {
     "data": {
      "text/html": [
       "<pre style=\"word-wrap: normal;white-space: pre;background: #fff0;line-height: 1.1;font-family: &quot;Courier New&quot;,Courier,monospace\">      ┌───────────────────────────────────────────────────────────────────┐\n",
       "q1_0: ┤0                                                                  ├\n",
       "      │                                                                   │\n",
       "q1_1: ┤1 initialize(0.25j,0.35355,0.25+0.25j,0,0,0.35355+0.70711j,0.25,0) ├\n",
       "      │                                                                   │\n",
       "q1_2: ┤2                                                                  ├\n",
       "      └───────────────────────────────────────────────────────────────────┘\n",
       "c1_0: ═════════════════════════════════════════════════════════════════════\n",
       "                                                                           \n",
       "c1_1: ═════════════════════════════════════════════════════════════════════\n",
       "                                                                           \n",
       "c1_2: ═════════════════════════════════════════════════════════════════════\n",
       "                                                                           </pre>"
      ],
      "text/plain": [
       "      ┌───────────────────────────────────────────────────────────────────┐\n",
       "q1_0: ┤0                                                                  ├\n",
       "      │                                                                   │\n",
       "q1_1: ┤1 initialize(0.25j,0.35355,0.25+0.25j,0,0,0.35355+0.70711j,0.25,0) ├\n",
       "      │                                                                   │\n",
       "q1_2: ┤2                                                                  ├\n",
       "      └───────────────────────────────────────────────────────────────────┘\n",
       "c1_0: ═════════════════════════════════════════════════════════════════════\n",
       "                                                                           \n",
       "c1_1: ═════════════════════════════════════════════════════════════════════\n",
       "                                                                           \n",
       "c1_2: ═════════════════════════════════════════════════════════════════════\n",
       "                                                                           "
      ]
     },
     "execution_count": 4,
     "metadata": {},
     "output_type": "execute_result"
    }
   ],
   "source": [
    "# Initializing a three-qubit quantum state\n",
    "import math\n",
    "desired_vector = [\n",
    "    1 / math.sqrt(16) * complex(0, 1),\n",
    "    1 / math.sqrt(8) * complex(1, 0),\n",
    "    1 / math.sqrt(16) * complex(1, 1),\n",
    "    0,\n",
    "    0,\n",
    "    1 / math.sqrt(8) * complex(1, 2),\n",
    "    1 / math.sqrt(16) * complex(1, 0),\n",
    "    0]\n",
    "\n",
    "\n",
    "q = QuantumRegister(3)\n",
    "c = ClassicalRegister(3)\n",
    "qc = QuantumCircuit(q, c)\n",
    "qc.initialize(desired_vector, [q[0],q[1],q[2]])\n",
    "qc.draw()"
   ]
  },
  {
   "cell_type": "code",
   "execution_count": 5,
   "metadata": {},
   "outputs": [
    {
     "data": {
      "text/plain": [
       "array([2.50000000e-01+0.j        , 2.77555756e-17-0.35355339j,\n",
       "       2.50000000e-01-0.25j      , 0.00000000e+00+0.j        ,\n",
       "       0.00000000e+00+0.j        , 7.07106781e-01-0.35355339j,\n",
       "       4.16333634e-17-0.25j      , 0.00000000e+00+0.j        ])"
      ]
     },
     "execution_count": 5,
     "metadata": {},
     "output_type": "execute_result"
    }
   ],
   "source": [
    "backend = BasicAer.get_backend('statevector_simulator')\n",
    "job = execute(qc, backend)\n",
    "qc_state = job.result().get_statevector(qc)\n",
    "qc_state "
   ]
  },
  {
   "cell_type": "code",
   "execution_count": 6,
   "metadata": {},
   "outputs": [
    {
     "data": {
      "text/plain": [
       "1.0"
      ]
     },
     "execution_count": 6,
     "metadata": {},
     "output_type": "execute_result"
    }
   ],
   "source": [
    "state_fidelity(desired_vector,qc_state)"
   ]
  },
  {
   "cell_type": "code",
   "execution_count": null,
   "metadata": {},
   "outputs": [],
   "source": []
  },
  {
   "cell_type": "code",
   "execution_count": null,
   "metadata": {},
   "outputs": [],
   "source": []
  }
 ],
 "metadata": {
  "kernelspec": {
   "display_name": "Python 3",
   "language": "python",
   "name": "python3"
  },
  "language_info": {
   "codemirror_mode": {
    "name": "ipython",
    "version": 3
   },
   "file_extension": ".py",
   "mimetype": "text/x-python",
   "name": "python",
   "nbconvert_exporter": "python",
   "pygments_lexer": "ipython3",
   "version": "3.8.2"
  }
 },
 "nbformat": 4,
 "nbformat_minor": 4
}
