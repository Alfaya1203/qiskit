{
 "cells": [
  {
   "cell_type": "code",
   "execution_count": 1,
   "metadata": {},
   "outputs": [],
   "source": [
    "# Useful additional packages \n",
    "import matplotlib.pyplot as plt\n",
    "%matplotlib inline\n",
    "import numpy as np\n",
    "from math import pi"
   ]
  },
  {
   "cell_type": "code",
   "execution_count": 2,
   "metadata": {},
   "outputs": [],
   "source": [
    "from qiskit.tools.visualization import circuit_drawer\n",
    "from qiskit.visualization import *\n",
    "from qiskit.quantum_info import state_fidelity\n",
    "from qiskit import *\n",
    "\n",
    "# 1. The QASM Simulator is the main Qiskit Aer backend. \n",
    "# This backend emulates execution of a quantum circuits on a real device and returns measurement counts.\n",
    "backendQasm = BasicAer.get_backend('qasm_simulator')\n",
    "\n",
    "# 2. The Statevector Simulator is an auxiliary backend for Qiskit Aer. \n",
    "# It simulates the ideal execution of a quantum circuit and returns the final quantum state vector of the device at the end of simulation. \n",
    "# This is useful for education, as well as the theoretical study and debugging of algorithms.\n",
    "backendStatevector = BasicAer.get_backend('statevector_simulator')\n",
    "\n",
    "# 3. The Unitary Simulator is another auxiliary backend for Qiskit Aer. \n",
    "# It allows simulation of the final unitary matrix implemented by an ideal quantum circuit. \n",
    "# This is also useful for education and algorithm studies.\n",
    "backend = BasicAer.get_backend('unitary_simulator')"
   ]
  },
  {
   "cell_type": "markdown",
   "metadata": {},
   "source": [
    "These include measurements, reset of qubits, and classical conditional operations.\n",
    "\n",
    "# Non-Unitary Operations - Conditional Operations"
   ]
  },
  {
   "cell_type": "code",
   "execution_count": 3,
   "metadata": {},
   "outputs": [
    {
     "data": {
      "image/png": "[encoded data removed]",
      "text/plain": [
       "<Figure size 244.412x144.48 with 1 Axes>"
      ]
     },
     "execution_count": 3,
     "metadata": {},
     "output_type": "execute_result"
    }
   ],
   "source": [
    "q = QuantumRegister(1)\n",
    "c = ClassicalRegister(1)\n",
    "qc = QuantumCircuit(q, c)\n",
    "\n",
    "qc.x(q[0]).c_if(c, 0)\n",
    "qc.measure(q,c)\n",
    "qc.draw(output='mpl')"
   ]
  },
  {
   "cell_type": "code",
   "execution_count": 4,
   "metadata": {},
   "outputs": [
    {
     "data": {
      "text/plain": [
       "{'1': 1024}"
      ]
     },
     "execution_count": 4,
     "metadata": {},
     "output_type": "execute_result"
    }
   ],
   "source": [
    "backend = BasicAer.get_backend('qasm_simulator')\n",
    "job = execute(qc, backend, shots=1024)\n",
    "job.result().get_counts(qc)\n",
    "# Here the classical bit always takes the value 0 so the qubit state is always flipped. "
   ]
  },
  {
   "cell_type": "code",
   "execution_count": 5,
   "metadata": {},
   "outputs": [
    {
     "data": {
      "image/png": "[encoded data removed]",
      "text/plain": [
       "<Figure size 364.812x144.48 with 1 Axes>"
      ]
     },
     "execution_count": 5,
     "metadata": {},
     "output_type": "execute_result"
    }
   ],
   "source": [
    "qc = QuantumCircuit(q, c)\n",
    "qc.h(q)\n",
    "qc.measure(q,c)\n",
    "qc.x(q[0]).c_if(c, 0)\n",
    "qc.measure(q,c)\n",
    "qc.draw(output='mpl')"
   ]
  },
  {
   "cell_type": "code",
   "execution_count": 6,
   "metadata": {},
   "outputs": [
    {
     "data": {
      "text/plain": [
       "{'1': 1024}"
      ]
     },
     "execution_count": 6,
     "metadata": {},
     "output_type": "execute_result"
    }
   ],
   "source": [
    "job = execute(qc, backend, shots=1024)\n",
    "job.result().get_counts(qc)\n",
    "# Here the classical bit by the first measurement is random \n",
    "# but the conditional operation results in the qubit being deterministically put into ||1⟩."
   ]
  },
  {
   "cell_type": "code",
   "execution_count": null,
   "metadata": {},
   "outputs": [],
   "source": []
  }
 ],
 "metadata": {
  "kernelspec": {
   "display_name": "Python 3",
   "language": "python",
   "name": "python3"
  },
  "language_info": {
   "codemirror_mode": {
    "name": "ipython",
    "version": 3
   },
   "file_extension": ".py",
   "mimetype": "text/x-python",
   "name": "python",
   "nbconvert_exporter": "python",
   "pygments_lexer": "ipython3",
   "version": "3.8.2"
  }
 },
 "nbformat": 4,
 "nbformat_minor": 4
}
