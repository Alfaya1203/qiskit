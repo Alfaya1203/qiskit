{
 "cells": [
  {
   "cell_type": "code",
   "execution_count": 1,
   "metadata": {},
   "outputs": [],
   "source": [
    "import numpy as np\n",
    "from qiskit import *\n",
    "import math as m\n",
    "from scipy import linalg as la\n",
    "%matplotlib inline"
   ]
  },
  {
   "cell_type": "code",
   "execution_count": 2,
   "metadata": {},
   "outputs": [
    {
     "name": "stdout",
     "output_type": "stream",
     "text": [
      "[[0.83333333 0.16666667]\n",
      " [0.16666667 0.16666667]]\n"
     ]
    }
   ],
   "source": [
    "# the density operators were a way of describing possible states of a quantum system,\n",
    "# or equivalently possible outcomes of measurements, \n",
    "# in a way very similar to probability distributions.\n",
    "\n",
    "# Density Matrix\n",
    "# rho = 1/3|l><l| + 2/3|0><0|\n",
    "\n",
    "rho = np.matrix( [[5/6, 1/6],\n",
    "                  [1/6, 1/6]] )\n",
    "print(rho)"
   ]
  },
  {
   "cell_type": "code",
   "execution_count": 3,
   "metadata": {},
   "outputs": [
    {
     "data": {
      "text/plain": [
       "array([[-0.23779441,  0.43040894],\n",
       "       [ 0.43040894, -1.95943017]])"
      ]
     },
     "execution_count": 3,
     "metadata": {},
     "output_type": "execute_result"
    }
   ],
   "source": [
    "# matrix logarithm\n",
    "\n",
    "la.logm(rho)"
   ]
  },
  {
   "cell_type": "code",
   "execution_count": 4,
   "metadata": {},
   "outputs": [
    {
     "data": {
      "text/plain": [
       "array([[-0.34306481,  0.62094884],\n",
       "       [ 0.62094884, -2.82686019]])"
      ]
     },
     "execution_count": 4,
     "metadata": {},
     "output_type": "execute_result"
    }
   ],
   "source": [
    "# Base change for logarithm\n",
    "# (To get the appropriate base 2)\n",
    "\n",
    "la.logm(rho) / la.logm( np.matrix( [[2]] ) )"
   ]
  },
  {
   "cell_type": "code",
   "execution_count": 5,
   "metadata": {},
   "outputs": [
    {
     "name": "stdout",
     "output_type": "stream",
     "text": [
      "[[0.55004776]]\n"
     ]
    }
   ],
   "source": [
    "# compute the von Neumann entropy using the trace of this matrix \n",
    "# numpy.matrix.trace Return the sum along diagonals of the array.\n",
    " \n",
    "S = -np.matrix.trace( rho * ( la.logm(rho) / la.logm( np.matrix([[2]]) ) ) )\n",
    "print(S)"
   ]
  },
  {
   "cell_type": "markdown",
   "metadata": {},
   "source": [
    "# von_neumann_entropy(rho)"
   ]
  },
  {
   "cell_type": "code",
   "execution_count": 6,
   "metadata": {},
   "outputs": [],
   "source": [
    "#  Let’s define a function for density matrices that computes the von Neumann entropy.\n",
    "\n",
    "def von_neumann_entropy(rho):\n",
    "    import numpy as np\n",
    "    from scipy import linalg as la\n",
    "    \n",
    "    R = rho * ( la.logm(rho) / la.logm( np.matrix([[2]]) ) )\n",
    "    #print(\"\\nR = \")\n",
    "    #print(R)\n",
    "    \n",
    "    S = -np.matrix.trace(R)\n",
    "    #print(\"\\nS = \")\n",
    "    #print(S)\n",
    "    \n",
    "    return S\n",
    "    "
   ]
  },
  {
   "cell_type": "code",
   "execution_count": 7,
   "metadata": {},
   "outputs": [
    {
     "data": {
      "text/plain": [
       "matrix([[0.55004776]])"
      ]
     },
     "execution_count": 7,
     "metadata": {},
     "output_type": "execute_result"
    }
   ],
   "source": [
    "von_neumann_entropy(rho)"
   ]
  },
  {
   "cell_type": "markdown",
   "metadata": {},
   "source": [
    "# State Evolution"
   ]
  },
  {
   "cell_type": "code",
   "execution_count": 8,
   "metadata": {},
   "outputs": [
    {
     "name": "stdout",
     "output_type": "stream",
     "text": [
      "\n",
      "u = \n",
      "[[1]\n",
      " [0]]\n",
      "\n",
      "d = \n",
      "[[0]\n",
      " [1]]\n",
      "\n",
      "P11 = \n",
      "[[1 0]\n",
      " [0 0]]\n",
      "\n",
      "P22 = \n",
      "[[0 0]\n",
      " [0 1]]\n"
     ]
    }
   ],
   "source": [
    "# There are two important kinds of states called mixed states and pure states. \n",
    "\n",
    "# Pure states can always be represented as the “outer product” of a state vector with itself. \n",
    "# Mixed states are generally expressed as a sum of orthogonal state vectors. \n",
    "\n",
    "# In the case of pure states, the von Neumann entropy is always zero. \n",
    "# In the case of mixed states, the entropy can be a whole range of values. \n",
    "\n",
    "\n",
    "#  an example where a system evolves from a pure state to a mixed state and then back to a pure state again. \n",
    "# We will see the von Neumann entropy gradually increases and then decreases back to zero. \n",
    "\n",
    "\n",
    "# define spin-up\n",
    "u = np.matrix( [[1], \n",
    "                [0]] )\n",
    "print(\"\\nu = \")\n",
    "print(u)\n",
    "\n",
    "# define spin-down\n",
    "d = np.matrix( [[0], \n",
    "                [1]] )\n",
    "print(\"\\nd = \")\n",
    "print(d)\n",
    "\n",
    "# define the pure state |0><0|\n",
    "P11 = np.dot( u, u.getH() )\n",
    "print(\"\\nP11 = \")\n",
    "print(P11)\n",
    "\n",
    "# define the pure state |1><1|\n",
    "P22 = np.dot( d, d.getH() )\n",
    "print(\"\\nP22 = \")\n",
    "print(P22)\n",
    "\n",
    "# numpy.matrix.H = Returns the (complex) conjugate transpose of self.\n",
    "# numpy.dot = Dot product of two arrays. "
   ]
  },
  {
   "cell_type": "code",
   "execution_count": 9,
   "metadata": {},
   "outputs": [
    {
     "name": "stdout",
     "output_type": "stream",
     "text": [
      "\n",
      "p = \n",
      "[0.001 0.011 0.021 0.031 0.041 0.051 0.061 0.071 0.081 0.091 0.101 0.111\n",
      " 0.121 0.131 0.141 0.151 0.161 0.171 0.181 0.191 0.201 0.211 0.221 0.231\n",
      " 0.241 0.251 0.261 0.271 0.281 0.291 0.301 0.311 0.321 0.331 0.341 0.351\n",
      " 0.361 0.371 0.381 0.391 0.401 0.411 0.421 0.431 0.441 0.451 0.461 0.471\n",
      " 0.481 0.491 0.501 0.511 0.521 0.531 0.541 0.551 0.561 0.571 0.581 0.591\n",
      " 0.601 0.611 0.621 0.631 0.641 0.651 0.661 0.671 0.681 0.691 0.701 0.711\n",
      " 0.721 0.731 0.741 0.751 0.761 0.771 0.781 0.791 0.801 0.811 0.821 0.831\n",
      " 0.841 0.851 0.861 0.871 0.881 0.891 0.901 0.911 0.921 0.931 0.941 0.951\n",
      " 0.961 0.971 0.981 0.991]\n"
     ]
    }
   ],
   "source": [
    "# plot the evolution \n",
    "\n",
    "import matplotlib.pyplot as plt\n",
    "\n",
    "p = np.arange( 0.001, 1., 0.01 )\n",
    "print(\"\\np = \")\n",
    "print(p)\n",
    "# numpy.arange = Return evenly spaced values within a given interval.\n"
   ]
  },
  {
   "cell_type": "code",
   "execution_count": 10,
   "metadata": {},
   "outputs": [
    {
     "name": "stdout",
     "output_type": "stream",
     "text": [
      "\n",
      "vn_y = \n",
      "[matrix([[0.01140776]]), matrix([[0.08735192]]), matrix([[0.14701904]]), matrix([[0.19938228]]), matrix([[0.24685851]]), matrix([[0.29062979]]), matrix([[0.33140182]]), matrix([[0.36964442]]), matrix([[0.40569299]]), matrix([[0.43979891]]), matrix([[0.47215753]]), matrix([[0.50292491]]), matrix([[0.53222852]]), matrix([[0.56017432]]), matrix([[0.58685174]]), matrix([[0.61233716]]), matrix([[0.63669651]]), matrix([[0.65998725]]), matrix([[0.68225979]]), matrix([[0.7035587]]), matrix([[0.72392359]]), matrix([[0.74338986]]), matrix([[0.76198927]]), matrix([[0.77975046]]), matrix([[0.79669929]]), matrix([[0.81285924]]), matrix([[0.82825164]]), matrix([[0.84289592]]), matrix([[0.85680981]]), matrix([[0.87000951]]), matrix([[0.88250986]]), matrix([[0.89432442]]), matrix([[0.90546561]]), matrix([[0.91594481]]), matrix([[0.92577242]]), matrix([[0.93495797]]), matrix([[0.94351013]]), matrix([[0.95143683]]), matrix([[0.95874523]]), matrix([[0.96544185]]), matrix([[0.97153255]]), matrix([[0.97702258]]), matrix([[0.9819166]]), matrix([[0.98621872]]), matrix([[0.98993252]]), matrix([[0.99306105]]), matrix([[0.99560686]]), matrix([[0.99757202]]), matrix([[0.99895812]]), matrix([[0.99976627]]), matrix([[0.99999711]]), matrix([[0.99965084]]), matrix([[0.99872717]]), matrix([[0.99722536]]), matrix([[0.99514421]]), matrix([[0.99248203]]), matrix([[0.98923667]]), matrix([[0.98540547]]), matrix([[0.98098527]]), matrix([[0.97597239]]), matrix([[0.97036263]]), matrix([[0.96415118]]), matrix([[0.95733269]]), matrix([[0.94990117]]), matrix([[0.94184998]]), matrix([[0.9331718]]), matrix([[0.92385856]]), matrix([[0.91390141]]), matrix([[0.90329068]]), matrix([[0.89201576]]), matrix([[0.88006507]]), matrix([[0.86742597]]), matrix([[0.85408466]]), matrix([[0.84002604]]), matrix([[0.82523361]]), matrix([[0.80968931]]), matrix([[0.79337336]]), matrix([[0.776264]]), matrix([[0.75833732]]), matrix([[0.73956692]]), matrix([[0.71992358]]), matrix([[0.69937484]]), matrix([[0.67788452]]), matrix([[0.65541208]]), matrix([[0.63191186]]), matrix([[0.60733214]]), matrix([[0.5816139]]), matrix([[0.55468929]]), matrix([[0.52647955]]), matrix([[0.49689227]]), matrix([[0.46581763]]), matrix([[0.43312311]]), matrix([[0.39864579]]), matrix([[0.36218072]]), matrix([[0.32346244]]), matrix([[0.28213375]]), matrix([[0.23768829]]), matrix([[0.18935185]]), matrix([[0.13578841]]), matrix([[0.07408838]])]\n"
     ]
    }
   ],
   "source": [
    "# create list of von Neumann entropies\n",
    "vn_y = list()\n",
    "for value in p:\n",
    "    rho_p = value*P11 + (1-value)*(P22)\n",
    "    vn_y.append( von_neumann_entropy(rho_p) )\n",
    "    \n",
    "print(\"\\nvn_y = \")\n",
    "print(vn_y)\n"
   ]
  },
  {
   "cell_type": "code",
   "execution_count": 11,
   "metadata": {},
   "outputs": [
    {
     "name": "stdout",
     "output_type": "stream",
     "text": [
      "\n",
      "y = \n",
      "[0.011407757737461138, 0.08735191991631619, 0.14701903522171567, 0.19938228214288037, 0.24685851466035819, 0.29062979332850786, 0.3314018216238566, 0.36964442262777, 0.4056929882938097, 0.43979890827156226, 0.4721575272466676, 0.5029249112475598, 0.5322285197808089, 0.5601743246989672, 0.586851742115917, 0.6123371577474704, 0.6366965139166221, 0.6599872509666214, 0.6822597925960407, 0.7035587015314072, 0.7239235920856688, 0.7433898602242521, 0.7619892744665404, 0.7797504591523332, 0.7966992933903274, 0.8128592431848386, 0.8282516400433415, 0.8428959163008507, 0.8568098051241516, 0.8700095114529595, 0.8825098588399867, 0.8943244161582129, 0.9054656073736549, 0.9159448069797606, 0.9257724232145381, 0.9349579708037453, 0.9435101346706889, 0.9514368258086963, 0.9587452303135016, 0.965441852409956, 0.9715325521731815, 0.977022578532774, 0.9819165980553664, 0.9862187199222406, 0.9899325174518772, 0.9930610464600561, 0.9956068607005619, 0.9975720245861466, 0.9989581233509568, 0.9997662707810439, 0.9999971146079947, 0.9996508396313203, 0.998727168607354, 0.9972253609153698, 0.9951442089848422, 0.9924820324406043, 0.9892366698945321, 0.9854054682825988, 0.9809852696140275, 0.9759723949639902, 0.9703626255019489, 0.9641511803032148, 0.9573326906403244, 0.9499011703918127, 0.9418499821369988, 0.9331717984240897, 0.9238585576022824, 0.9139014134928696, 0.9032906780348733, 0.8920157558713487, 0.8800650696354071, 0.8674259744399868, 0.854084659759111, 0.8400260364931236, 0.8252336065126469, 0.809689311343917, 0.7933733558484902, 0.7762640017033957, 0.7583373241205444, 0.7395669234392044, 0.7199235808145245, 0.6993748439640963, 0.6778845244622078, 0.6554120818442419, 0.6319118609672986, 0.607332136358471, 0.5816138985648373, 0.5546892893228765, 0.5264795487695577, 0.49689226848536994, 0.4658176297462077, 0.4331231102024101, 0.39864578980597654, 0.3621807172571571, 0.323462435872186, 0.28213374645204664, 0.2376882895628859, 0.18935184746135247, 0.13578841288558646, 0.07408838368729725]\n"
     ]
    }
   ],
   "source": [
    "# convert list of matrices to list of numbers for plotting\n",
    "y = list()\n",
    "for value in vn_y:\n",
    "    y.append( value.tolist()[0][0] )\n",
    "print(\"\\ny = \")\n",
    "print(y)\n"
   ]
  },
  {
   "cell_type": "code",
   "execution_count": 12,
   "metadata": {},
   "outputs": [
    {
     "data": {
      "image/png": "[encoded data removed]",
      "text/plain": [
       "<Figure size 432x288 with 1 Axes>"
      ]
     },
     "metadata": {
      "needs_background": "light"
     },
     "output_type": "display_data"
    }
   ],
   "source": [
    "# plot p vs S(rho_p)\n",
    "plt.xlabel('p')\n",
    "plt.ylabel('Von Neumann Entropy')\n",
    "plt.title('S(rho_p)')\n",
    "plt.plot(p, y, color='tab:blue')\n",
    "plt.show()\n"
   ]
  },
  {
   "cell_type": "code",
   "execution_count": 13,
   "metadata": {},
   "outputs": [
    {
     "data": {
      "image/png": "[encoded data removed]",
      "text/plain": [
       "<Figure size 432x288 with 1 Axes>"
      ]
     },
     "metadata": {
      "needs_background": "light"
     },
     "output_type": "display_data"
    }
   ],
   "source": [
    "# compare this to the classical Shannon entropy\n",
    "\n",
    "p = np.arange(0.01, 1., 0.01)\n",
    "\n",
    "plt.xlabel('Probability')\n",
    "plt.ylabel('Shannon Entropy')\n",
    "plt.title('H(p, 1-p)')\n",
    "plt.plot(p, -( p*np.log2(p) + (1-p)*np.log2(1-p) ), 'r--')\n",
    "plt.show()"
   ]
  },
  {
   "cell_type": "markdown",
   "metadata": {},
   "source": [
    "# Using Qiskit Using Qiskit for Studying Entropy"
   ]
  },
  {
   "cell_type": "markdown",
   "metadata": {},
   "source": [
    "## Creating a GHZ-state\n"
   ]
  },
  {
   "cell_type": "code",
   "execution_count": 14,
   "metadata": {},
   "outputs": [
    {
     "data": {
      "image/png": "[encoded data removed]",
      "text/plain": [
       "<Figure size 369.628x264.88 with 1 Axes>"
      ]
     },
     "execution_count": 14,
     "metadata": {},
     "output_type": "execute_result"
    }
   ],
   "source": [
    "from qiskit import *\n",
    "import numpy as np\n",
    "%matplotlib inline\n",
    "\n",
    "qr = QuantumRegister(3)\n",
    "cr = ClassicalRegister(3)\n",
    "GHZ = QuantumCircuit(qr, cr)\n",
    "\n",
    "GHZ.h(0)\n",
    "GHZ.cx(0,1)\n",
    "GHZ.cx(1,2)\n",
    "GHZ.draw(output='mpl')"
   ]
  },
  {
   "cell_type": "code",
   "execution_count": 19,
   "metadata": {},
   "outputs": [
    {
     "name": "stdout",
     "output_type": "stream",
     "text": [
      "[[0.70710678-0.j]\n",
      " [0.        -0.j]\n",
      " [0.        -0.j]\n",
      " [0.        -0.j]\n",
      " [0.        -0.j]\n",
      " [0.        -0.j]\n",
      " [0.        -0.j]\n",
      " [0.70710678-0.j]]\n"
     ]
    }
   ],
   "source": [
    "backend = Aer.get_backend('statevector_simulator') \n",
    "GHZ_state = execute(GHZ,backend).result().get_statevector()\n",
    "print(np.matrix(GHZ_state).H)"
   ]
  },
  {
   "cell_type": "markdown",
   "metadata": {},
   "source": [
    "## State vector\n"
   ]
  },
  {
   "cell_type": "code",
   "execution_count": 20,
   "metadata": {},
   "outputs": [
    {
     "name": "stdout",
     "output_type": "stream",
     "text": [
      "Statevector([0.70710678+0.j, 0.        +0.j, 0.        +0.j,\n",
      "             0.        +0.j, 0.        +0.j, 0.        +0.j,\n",
      "             0.        +0.j, 0.70710678+0.j],\n",
      "            dims=(2, 2, 2))\n"
     ]
    }
   ],
   "source": [
    "# Next, we can use Statevector() function from Qiskti to print the state vector as well. \n",
    "# This will be useful for computing the von Neumann entropy of the corresponding density matrix using the function entropy() in Qiskit.\n",
    "\n",
    "from qiskit.quantum_info import Statevector\n",
    "psi = Statevector(GHZ_state)\n",
    "print(psi)"
   ]
  },
  {
   "cell_type": "markdown",
   "metadata": {},
   "source": [
    "## Density Matrix in Qiskit\n"
   ]
  },
  {
   "cell_type": "code",
   "execution_count": 21,
   "metadata": {},
   "outputs": [
    {
     "name": "stdout",
     "output_type": "stream",
     "text": [
      "DensityMatrix([[0.5+0.j, 0. +0.j, 0. +0.j, 0. +0.j, 0. +0.j, 0. +0.j,\n",
      "                0. +0.j, 0.5+0.j],\n",
      "               [0. +0.j, 0. +0.j, 0. +0.j, 0. +0.j, 0. +0.j, 0. +0.j,\n",
      "                0. +0.j, 0. +0.j],\n",
      "               [0. +0.j, 0. +0.j, 0. +0.j, 0. +0.j, 0. +0.j, 0. +0.j,\n",
      "                0. +0.j, 0. +0.j],\n",
      "               [0. +0.j, 0. +0.j, 0. +0.j, 0. +0.j, 0. +0.j, 0. +0.j,\n",
      "                0. +0.j, 0. +0.j],\n",
      "               [0. +0.j, 0. +0.j, 0. +0.j, 0. +0.j, 0. +0.j, 0. +0.j,\n",
      "                0. +0.j, 0. +0.j],\n",
      "               [0. +0.j, 0. +0.j, 0. +0.j, 0. +0.j, 0. +0.j, 0. +0.j,\n",
      "                0. +0.j, 0. +0.j],\n",
      "               [0. +0.j, 0. +0.j, 0. +0.j, 0. +0.j, 0. +0.j, 0. +0.j,\n",
      "                0. +0.j, 0. +0.j],\n",
      "               [0.5+0.j, 0. +0.j, 0. +0.j, 0. +0.j, 0. +0.j, 0. +0.j,\n",
      "                0. +0.j, 0.5+0.j]],\n",
      "              dims=(2, 2, 2))\n"
     ]
    }
   ],
   "source": [
    "# Next, we use the DensityMatrix() function from Qiskit by passing it the GHZ_state ket-vector we defined above.\n",
    "\n",
    "from qiskit.quantum_info import DensityMatrix\n",
    "D = DensityMatrix(GHZ_state)\n",
    "print(D)"
   ]
  },
  {
   "cell_type": "markdown",
   "metadata": {},
   "source": [
    "## compute the entropy using the Qiskit entropy() function\n"
   ]
  },
  {
   "cell_type": "code",
   "execution_count": 25,
   "metadata": {},
   "outputs": [
    {
     "name": "stdout",
     "output_type": "stream",
     "text": [
      "\n",
      "vn_entropy1 = \n",
      "0\n",
      "\n",
      "vn_entropy2 = \n",
      "1.6017132519074586e-16\n"
     ]
    }
   ],
   "source": [
    "# Now we can compute the entropy using the Qiskit entropy() function. \n",
    "# We can pass it either the Statevector or the DensityMatrix. \n",
    "\n",
    "# In the second case, we get effectively zero entropy, in the first we get exactly zero. \n",
    "# This makes sense because the state is a pure state and the density matrix is computed as 𝐷=|𝜓⟩⟨𝜓|.\n",
    "\n",
    "from qiskit.quantum_info import entropy\n",
    "\n",
    "# Statevector\n",
    "vn_entropy1 = entropy(psi, base=2)\n",
    "print(\"\\nvn_entropy1 = \")\n",
    "print(vn_entropy1)\n",
    "\n",
    "# DensityMatrix\n",
    "vn_entropy2 = entropy(D, base=2)\n",
    "print(\"\\nvn_entropy2 = \")\n",
    "print(vn_entropy2)\n"
   ]
  },
  {
   "cell_type": "markdown",
   "metadata": {},
   "source": [
    "## random density matrix\n"
   ]
  },
  {
   "cell_type": "code",
   "execution_count": 26,
   "metadata": {},
   "outputs": [
    {
     "name": "stdout",
     "output_type": "stream",
     "text": [
      "DensityMatrix([[ 0.15659523+0.j        , -0.01952369-0.0680313j ,\n",
      "                -0.02544538+0.02723676j,  0.05464491-0.03036332j,\n",
      "                 0.00412683+0.00280309j, -0.01044842+0.01336451j,\n",
      "                 0.02092219+0.07315713j, -0.01703844-0.04146047j],\n",
      "               [-0.01952369+0.0680313j ,  0.10163545+0.j        ,\n",
      "                -0.01337762+0.01686514j,  0.00982681+0.00229465j,\n",
      "                -0.03052769-0.00493328j, -0.010884  -0.04662991j,\n",
      "                -0.04122769-0.00290373j,  0.02456669-0.00353341j],\n",
      "               [-0.02544538-0.02723676j, -0.01337762-0.01686514j,\n",
      "                 0.1157837 +0.j        , -0.08879714+0.02559668j,\n",
      "                -0.05996803+0.06723072j, -0.02458548+0.01444919j,\n",
      "                -0.03331822+0.00351694j, -0.00767664+0.00972435j],\n",
      "               [ 0.05464491+0.03036332j,  0.00982681-0.00229465j,\n",
      "                -0.08879714-0.02559668j,  0.17671066+0.j        ,\n",
      "                 0.08524999-0.05468045j,  0.01960767-0.02095533j,\n",
      "                 0.05372956+0.0378089j ,  0.02650852+0.02305821j],\n",
      "               [ 0.00412683-0.00280309j, -0.03052769+0.00493328j,\n",
      "                -0.05996803-0.06723072j,  0.08524999+0.05468045j,\n",
      "                 0.14231307+0.j        ,  0.00025634+0.03796839j,\n",
      "                 0.07888213+0.01731475j, -0.01699952+0.02299489j],\n",
      "               [-0.01044842-0.01336451j, -0.010884  +0.04662991j,\n",
      "                -0.02458548-0.01444919j,  0.01960767+0.02095533j,\n",
      "                 0.00025634-0.03796839j,  0.09232834+0.j        ,\n",
      "                -0.00869985-0.01920264j, -0.01822135+0.01125033j],\n",
      "               [ 0.02092219-0.07315713j, -0.04122769+0.00290373j,\n",
      "                -0.03331822-0.00351694j,  0.05372956-0.0378089j ,\n",
      "                 0.07888213-0.01731475j, -0.00869985+0.01920264j,\n",
      "                 0.13765355+0.j        , -0.0544371 +0.00495931j],\n",
      "               [-0.01703844+0.04146047j,  0.02456669+0.00353341j,\n",
      "                -0.00767664-0.00972435j,  0.02650852-0.02305821j,\n",
      "                -0.01699952-0.02299489j, -0.01822135-0.01125033j,\n",
      "                -0.0544371 -0.00495931j,  0.07698   +0.j        ]],\n",
      "              dims=(2, 2, 2))\n"
     ]
    }
   ],
   "source": [
    "# Finally, let’s generate a random density matrix 𝜌ρ using the Qiskit function random_density_matrix(). \n",
    "# This function's first argument is the dimension of the desired density matrix, which need not be a power of two. \n",
    "# However, in the context of quantum circuits with qubits, it is important we make this restriction manually. \n",
    "# There are of course more general systems involving things such as \"qudits\" which might yield arbitrary dimensional density matrices.\n",
    "\n",
    "from qiskit.quantum_info import random_density_matrix\n",
    "rho = random_density_matrix(8, rank=None, method='Hilbert-Schmidt', seed=None)\n",
    "print(rho)"
   ]
  },
  {
   "cell_type": "markdown",
   "metadata": {},
   "source": [
    "## von Neumann Entropy using the Qiskit entropy() function.\n"
   ]
  },
  {
   "cell_type": "code",
   "execution_count": 28,
   "metadata": {},
   "outputs": [
    {
     "data": {
      "text/plain": [
       "2.142686006861768"
      ]
     },
     "execution_count": 28,
     "metadata": {},
     "output_type": "execute_result"
    }
   ],
   "source": [
    "# von Neumann Entropy\n",
    "\n",
    "entropy(rho, base=2)\n"
   ]
  },
  {
   "cell_type": "markdown",
   "metadata": {},
   "source": [
    "### plot entropy\n"
   ]
  },
  {
   "cell_type": "code",
   "execution_count": 29,
   "metadata": {},
   "outputs": [
    {
     "data": {
      "image/png": "[encoded data removed]",
      "text/plain": [
       "<Figure size 432x288 with 1 Axes>"
      ]
     },
     "metadata": {
      "needs_background": "light"
     },
     "output_type": "display_data"
    }
   ],
   "source": [
    "# Let’s plot the entropy of the system that evolved from the state given by the density matrix 𝐷 of the GHZ-state to the system described by the density matrix ρ.\n",
    "\n",
    "time = np.arange(0.001, 1., 0.01)\n",
    "\n",
    "vn_entropy = list()\n",
    "for t in time:\n",
    "    vn_entropy.append(entropy(D, base=2)*t + entropy(rho, base=2)*(1-t))\n",
    "\n",
    "# Create list of von Neumann entropies\n",
    "vn_y = list()\n",
    "for value in p:\n",
    "    M = value*rho + (1-value)*(D)\n",
    "    vn_y.append(entropy(M))\n",
    "\n",
    "# convert list of matrices to list of numbers for plotting\n",
    "# y = list()\n",
    "# for value in vn_y:\n",
    "#    y.append(value.tolist()[0][0])\n",
    "\n",
    "    \n",
    "# plot p vs. S(rho_p)\n",
    "plt.xlabel('time')\n",
    "plt.ylabel('von Neumann Entropy')\n",
    "plt.title('S(rho(t))')\n",
    "plt.plot(p, vn_y, color='tab:blue')\n",
    "plt.show()"
   ]
  },
  {
   "cell_type": "code",
   "execution_count": null,
   "metadata": {},
   "outputs": [],
   "source": [
    "# source = \n",
    "# https://towardsdatascience.com/programming-quantum-information-8f251ec6770\n",
    "# https://github.com/The-Singularity-Research/entropy/blob/master/entropy.ipynb"
   ]
  }
 ],
 "metadata": {
  "kernelspec": {
   "display_name": "Python 3",
   "language": "python",
   "name": "python3"
  },
  "language_info": {
   "codemirror_mode": {
    "name": "ipython",
    "version": 3
   },
   "file_extension": ".py",
   "mimetype": "text/x-python",
   "name": "python",
   "nbconvert_exporter": "python",
   "pygments_lexer": "ipython3",
   "version": "3.8.2"
  }
 },
 "nbformat": 4,
 "nbformat_minor": 4
}
